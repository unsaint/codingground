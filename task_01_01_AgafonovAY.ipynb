{
  "nbformat": 4,
  "nbformat_minor": 0,
  "metadata": {
    "kernelspec": {
      "display_name": "Python 3",
      "language": "python",
      "name": "python3"
    },
    "language_info": {
      "codemirror_mode": {
        "name": "ipython",
        "version": 3
      },
      "file_extension": ".py",
      "mimetype": "text/x-python",
      "name": "python",
      "nbconvert_exporter": "python",
      "pygments_lexer": "ipython3",
      "version": "3.8.5"
    },
    "colab": {
      "name": "task_01_01_AgafonovAY.ipynb",
      "provenance": [],
      "include_colab_link": true
    }
  },
  "cells": [
    {
      "cell_type": "markdown",
      "metadata": {
        "id": "view-in-github",
        "colab_type": "text"
      },
      "source": [
        "<a href=\"https://colab.research.google.com/github/unsaint/codingground/blob/master/task_01_01_AgafonovAY.ipynb\" target=\"_parent\"><img src=\"https://colab.research.google.com/assets/colab-badge.svg\" alt=\"Open In Colab\"/></a>"
      ]
    },
    {
      "cell_type": "markdown",
      "metadata": {
        "id": "R6_q_5lLwX_8"
      },
      "source": [
        "2008889 МИВТ-20-7-16  Агафонов Антон Юрьевич"
      ]
    },
    {
      "cell_type": "markdown",
      "metadata": {
        "id": "d96sOiGtwYAM"
      },
      "source": [
        "### 1. Проблема\n",
        "![image-4.png](attachment:image-4.png)"
      ]
    },
    {
      "cell_type": "markdown",
      "metadata": {
        "id": "WmT_E5UDwYAP"
      },
      "source": [
        "### 2. Постановка задачи\n",
        "Полученные в ходе эксепримента данные  не совпадают с линейным законом Ома. Требуется провести анализ, интерпретировать данные и предоставить рекомендации.\n"
      ]
    },
    {
      "cell_type": "markdown",
      "metadata": {
        "id": "8UdpZ6qXwYAR"
      },
      "source": [
        "### 3. Мат. модель\n",
        "Закон Ома  был доказан и неоднократно проверялся эмпирически.  В нашем случае имеет место проявление случайные погрешности, проявляющиеся от эксперимента к эсперимента и зависящие в т.ч.  от погрешности измерительных приборов, которая в лющем случае равняется цене деления прибора.\n",
        "\n",
        "В ходе измерений имее набор величин сопротивление и силы тока, соответственно:\n",
        "$$R_1, R_2, ... , R_n, \\\\  I_1, I_2, ... , I_n$$\n",
        "\n",
        "Наиболее вероятной оценкой измерений является арифитическое среднее:\n",
        "$$\n",
        "<R> = \\frac{\\sum_{i=1}^{n} R_i}{n},      <I> = \\frac{\\sum_{i=1}^{n} I_i}{n}\n",
        "$$\n",
        "\n",
        "Мера разброса измеряемых величин - выборочное стандартное отклонение: \n",
        "$$\n",
        "S_R = \\sqrt{\\frac{\\sum_{i=1}^{n} (R_i-<R>)^2}{n(n-1)}},      S_I = \\sqrt{\\frac{\\sum_{i=1}^{n} (I_i-<I>)^2}{n(n-1)}}\n",
        "$$\n",
        "\n",
        "Доверительные интервалы: \n",
        "$$\n",
        "\\Delta R = t_{\\alpha,f} S_R,   \\Delta I = t_{\\alpha,f} S_I\n",
        "$$\n",
        "где  $t_{\\alpha,f}$ - коэффициент  Стьюдента с доверительной вероятностью $\\alpha$ и степенью свободы $f = n-1$. \n",
        "</p>В большинстве случаев   $\\alpha = 0,95$\n",
        "\n",
        "Относительная погрешность: \n",
        "$$\n",
        "R = <R> \\pm \\Delta R   (Ом),  \n",
        "\\varepsilon_R = \\frac{\\Delta R}{<R>}\n",
        "$$\n",
        "$$\n",
        "I = <I> \\pm \\Delta I   (A),  \n",
        "\\varepsilon_I = \\frac{\\Delta I}{<I>}\n",
        "$$\n",
        "$$\n",
        "\\alpha = 0,95\n",
        "$$\n",
        "При этом, коэфициент Стьюдента, например, для десяти измерений:\n",
        "$$\n",
        "t_{0,95,n-1} =  2.26215716274\n",
        "$$\n",
        "</p>\n",
        "Далее, для обработки косвенных измерений: \n",
        "$$U = I R $$\n",
        "$$U = f(I, R) $$\n",
        "$$<U> = f(<I>,<R>)$$\n",
        "</p>\n",
        "$$\n",
        "U_R' = \\frac{\\partial f}{\\partial R} = I\\\\\n",
        "U_I' = \\frac{\\partial f}{\\partial I} =  R\\\\\n",
        "$$\n",
        "\n",
        "Доверительная погрешность: \n",
        "$$\n",
        "\\Delta U = \\sqrt{ (\\frac{\\partial f(<R>,<I>)}{\\partial R} \\Delta R )^2 + (\\frac{\\partial f(<R>,<I>)}{\\partial I} \\Delta I )^2}\\\\\n",
        "\\Delta U = \\sqrt{ (<I> \\Delta R )^2 + (<R> \\Delta I )^2}\n",
        "$$\n",
        "\n",
        "Окончательная запись:\n",
        "$$\n",
        "U = <U> \\pm \\Delta U   (В), \\\\\n",
        "\\varepsilon_U = \\frac{\\Delta U}{<U>}\\\\\n",
        "\\alpha = 0,95\n",
        "$$\n",
        "\n",
        "\n"
      ]
    },
    {
      "cell_type": "markdown",
      "metadata": {
        "id": "epujmlzCwYAU"
      },
      "source": [
        "### 4. Реализация алгоритма\n",
        "В данном случае табличным записям измеряемых величин сопоставляются вычисления: \n",
        "средних, \n",
        "выбочоных стандартных отклонений, \n",
        "подбор коэффицента Стьюдента (позволяет учитывать ограниченность числа экспериметнов)\n",
        "\n",
        "Для косвенных измерений аналогично вычисляются частные производные функции ( здесь - закон Ома) "
      ]
    },
    {
      "cell_type": "markdown",
      "metadata": {
        "id": "qmjn8cTcwYAX"
      },
      "source": [
        "### 5. Решение\n",
        "Решение линейно основано на реальных данных, осуществляется любым стандартным  программным пакетом, поддерживающим матесматически или статсистические операции"
      ]
    },
    {
      "cell_type": "markdown",
      "metadata": {
        "id": "X_viEXLCwYAZ"
      },
      "source": [
        "### 6. Интерпретация решения\n",
        "Если $\\varepsilon_R$<=0,1 (10%),  $\\varepsilon_I$<=0,1 (10%), то можно сделать вывод о том, что  снятия показаний  приборов (резистор, Амперметр )  выполнены корректно и в принципе не превышают колебаний в рамках цены делений шкаля приборов.\n",
        "Если $\\varepsilon_R$>0,1,  $\\varepsilon_I$>0,1,  то  эксперимент следует повторить.  Возможно, потребуется увеличить кол-во опытов,  или заменить приборы.\n",
        "\n",
        "Как следствие,  ожидается выполнения условия \\varepsilon_U <=0,1,  что подтвердит выполнения закона Ома в рамках колебания случайных величин измерения показаний приборов."
      ]
    },
    {
      "cell_type": "code",
      "metadata": {
        "id": "xx_qf_EswYAa"
      },
      "source": [
        ""
      ],
      "execution_count": null,
      "outputs": []
    }
  ]
}